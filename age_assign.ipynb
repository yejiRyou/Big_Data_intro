{
 "cells": [
  {
   "cell_type": "code",
   "execution_count": 3,
   "id": "b5ad26da-2525-4d33-8567-e6de1f887def",
   "metadata": {},
   "outputs": [],
   "source": [
    "from pyspark.sql import SparkSession \n",
    "\n",
    "spark = SparkSession.builder.master('local').appName('udf_age').getOrCreate()"
   ]
  },
  {
   "cell_type": "code",
   "execution_count": 4,
   "id": "46340f1e-4c88-4220-b581-61970354d6e4",
   "metadata": {},
   "outputs": [],
   "source": [
    "# 샘플 데이터 \n",
    "age_category = [\n",
    "    ('안현' , 39),\n",
    "    ('손현우' , 92),\n",
    "    ('이민혁' , 31),\n",
    "    ('이주헌' , 30),\n",
    "    ('유기현' , 13),\n",
    "    ('채형원' , 59),\n",
    "    ('임창균' , 28)\n",
    "]"
   ]
  },
  {
   "cell_type": "code",
   "execution_count": 5,
   "id": "89cadcc9-e065-4e44-98db-b2d028981b7c",
   "metadata": {},
   "outputs": [],
   "source": [
    "#스키마 정의\n",
    "schema = ['name','age']"
   ]
  },
  {
   "cell_type": "code",
   "execution_count": 6,
   "id": "0b724be9-b0f0-412d-9a1d-9353e29a296c",
   "metadata": {},
   "outputs": [],
   "source": [
    "#데이터프레임 생성\n",
    "df = spark.createDataFrame(age_category, schema)"
   ]
  },
  {
   "cell_type": "code",
   "execution_count": 7,
   "id": "2cbc4fb6-3a6b-4d39-9e34-46c0e49b55aa",
   "metadata": {},
   "outputs": [
    {
     "name": "stdout",
     "output_type": "stream",
     "text": [
      "+------+---+\n",
      "|  name|age|\n",
      "+------+---+\n",
      "|  안현| 39|\n",
      "|손현우| 92|\n",
      "|이민혁| 31|\n",
      "|이주헌| 30|\n",
      "|유기현| 13|\n",
      "|채형원| 59|\n",
      "|임창균| 28|\n",
      "+------+---+\n",
      "\n"
     ]
    }
   ],
   "source": [
    "df.show()"
   ]
  },
  {
   "cell_type": "code",
   "execution_count": 8,
   "id": "31e879be-fc75-4d96-a08b-6bd9807381f8",
   "metadata": {},
   "outputs": [
    {
     "name": "stdout",
     "output_type": "stream",
     "text": [
      "root\n",
      " |-- name: string (nullable = true)\n",
      " |-- age: long (nullable = true)\n",
      "\n"
     ]
    }
   ],
   "source": [
    "# 데이터프레임 스키마 출력\n",
    "df.printSchema()"
   ]
  },
  {
   "cell_type": "code",
   "execution_count": 12,
   "id": "3520f564-f5c3-4041-baed-9ef2631889e2",
   "metadata": {},
   "outputs": [],
   "source": [
    "# [+] Temporary View 생성\n",
    "df.createOrReplaceTempView('age_categories')"
   ]
  },
  {
   "cell_type": "code",
   "execution_count": 13,
   "id": "a3ce47fa-12c5-40c5-b543-4b96367c9914",
   "metadata": {},
   "outputs": [],
   "source": [
    "#udf\n",
    "def age_category(age):\n",
    "    if age < 35:\n",
    "        return 'young'\n",
    "    elif age >= 35 and age <= 59:\n",
    "        return 'adult'\n",
    "    else:\n",
    "        return 'senior'"
   ]
  },
  {
   "cell_type": "code",
   "execution_count": 20,
   "id": "7052f0b9-9bd6-405c-883d-bd9d1b5e73ab",
   "metadata": {},
   "outputs": [
    {
     "data": {
      "text/plain": [
       "<function __main__.age_category(age)>"
      ]
     },
     "execution_count": 20,
     "metadata": {},
     "output_type": "execute_result"
    }
   ],
   "source": [
    "# UDF 등록\n",
    "spark.udf.register('age_category', age_category)"
   ]
  },
  {
   "cell_type": "code",
   "execution_count": 22,
   "id": "be31888c-988a-4621-b1ed-9c24314efce1",
   "metadata": {},
   "outputs": [
    {
     "name": "stdout",
     "output_type": "stream",
     "text": [
      "+------+------------+\n",
      "|  name|age_category|\n",
      "+------+------------+\n",
      "|  안현|       adult|\n",
      "|손현우|      senior|\n",
      "|이민혁|       young|\n",
      "|이주헌|       young|\n",
      "|유기현|       young|\n",
      "|채형원|       adult|\n",
      "|임창균|       young|\n",
      "+------+------------+\n",
      "\n"
     ]
    }
   ],
   "source": [
    "# SQL문 처리\n",
    "result = spark.sql(\"SELECT name, age_category(age) AS age_category FROM age_categories\").show()"
   ]
  },
  {
   "cell_type": "code",
   "execution_count": null,
   "id": "b4d2a4fd-5e38-432a-8e5a-9254734da8b2",
   "metadata": {},
   "outputs": [],
   "source": []
  }
 ],
 "metadata": {
  "kernelspec": {
   "display_name": "Python 3 (ipykernel)",
   "language": "python",
   "name": "python3"
  },
  "language_info": {
   "codemirror_mode": {
    "name": "ipython",
    "version": 3
   },
   "file_extension": ".py",
   "mimetype": "text/x-python",
   "name": "python",
   "nbconvert_exporter": "python",
   "pygments_lexer": "ipython3",
   "version": "3.9.13"
  }
 },
 "nbformat": 4,
 "nbformat_minor": 5
}
